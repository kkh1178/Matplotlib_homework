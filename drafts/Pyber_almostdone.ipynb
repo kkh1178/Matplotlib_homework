{
 "cells": [
  {
   "cell_type": "code",
   "execution_count": 16,
   "metadata": {},
   "outputs": [],
   "source": [
    "# You've since been given access to the company's complete recordset of rides. This contains \n",
    "# information about every active driver and historic ride, including details like city, driver \n",
    "# count, individual fares, and city type.\n",
    "\n",
    "# Import Dependencies\n",
    "import pandas as pd\n",
    "import matplotlib.pyplot as plt\n",
    "import numpy as np\n",
    "import seaborn as sb"
   ]
  },
  {
   "cell_type": "code",
   "execution_count": 17,
   "metadata": {},
   "outputs": [],
   "source": [
    "# Your objective is to build a Bubble Plot that showcases the relationship between four key \n",
    "# variables:\n",
    "# \n",
    "# Average Fare ($) Per City\n",
    "# Total Number of Rides Per City\n",
    "# Total Number of Drivers Per City\n",
    "# City Type (Urban, Suburban, Rural)"
   ]
  },
  {
   "cell_type": "code",
   "execution_count": 18,
   "metadata": {},
   "outputs": [],
   "source": [
    "# Import and Read csv file\n",
    "city_data = \"/Users/kh/Desktop/BOOTCAMP/Week5_Matplotlib/Homework/raw_data/city_data.csv\"\n",
    "ride_data = \"/Users/kh/Desktop/BOOTCAMP/Week5_Matplotlib/Homework/raw_data/ride_data.csv\"\n",
    "\n",
    "\n",
    "city_data_pd = pd.read_csv(city_data)\n",
    "ride_data_pd = pd.read_csv(ride_data)"
   ]
  },
  {
   "cell_type": "code",
   "execution_count": 19,
   "metadata": {},
   "outputs": [
    {
     "data": {
      "text/html": [
       "<div>\n",
       "<style scoped>\n",
       "    .dataframe tbody tr th:only-of-type {\n",
       "        vertical-align: middle;\n",
       "    }\n",
       "\n",
       "    .dataframe tbody tr th {\n",
       "        vertical-align: top;\n",
       "    }\n",
       "\n",
       "    .dataframe thead th {\n",
       "        text-align: right;\n",
       "    }\n",
       "</style>\n",
       "<table border=\"1\" class=\"dataframe\">\n",
       "  <thead>\n",
       "    <tr style=\"text-align: right;\">\n",
       "      <th></th>\n",
       "      <th>city</th>\n",
       "      <th>driver_count</th>\n",
       "      <th>type</th>\n",
       "    </tr>\n",
       "  </thead>\n",
       "  <tbody>\n",
       "    <tr>\n",
       "      <th>0</th>\n",
       "      <td>Kelseyland</td>\n",
       "      <td>63</td>\n",
       "      <td>Urban</td>\n",
       "    </tr>\n",
       "    <tr>\n",
       "      <th>1</th>\n",
       "      <td>Nguyenbury</td>\n",
       "      <td>8</td>\n",
       "      <td>Urban</td>\n",
       "    </tr>\n",
       "    <tr>\n",
       "      <th>2</th>\n",
       "      <td>East Douglas</td>\n",
       "      <td>12</td>\n",
       "      <td>Urban</td>\n",
       "    </tr>\n",
       "    <tr>\n",
       "      <th>3</th>\n",
       "      <td>West Dawnfurt</td>\n",
       "      <td>34</td>\n",
       "      <td>Urban</td>\n",
       "    </tr>\n",
       "    <tr>\n",
       "      <th>4</th>\n",
       "      <td>Rodriguezburgh</td>\n",
       "      <td>52</td>\n",
       "      <td>Urban</td>\n",
       "    </tr>\n",
       "  </tbody>\n",
       "</table>\n",
       "</div>"
      ],
      "text/plain": [
       "             city  driver_count   type\n",
       "0      Kelseyland            63  Urban\n",
       "1      Nguyenbury             8  Urban\n",
       "2    East Douglas            12  Urban\n",
       "3   West Dawnfurt            34  Urban\n",
       "4  Rodriguezburgh            52  Urban"
      ]
     },
     "execution_count": 19,
     "metadata": {},
     "output_type": "execute_result"
    }
   ],
   "source": [
    "city_data_pd.head()"
   ]
  },
  {
   "cell_type": "code",
   "execution_count": 20,
   "metadata": {},
   "outputs": [
    {
     "data": {
      "text/html": [
       "<div>\n",
       "<style scoped>\n",
       "    .dataframe tbody tr th:only-of-type {\n",
       "        vertical-align: middle;\n",
       "    }\n",
       "\n",
       "    .dataframe tbody tr th {\n",
       "        vertical-align: top;\n",
       "    }\n",
       "\n",
       "    .dataframe thead th {\n",
       "        text-align: right;\n",
       "    }\n",
       "</style>\n",
       "<table border=\"1\" class=\"dataframe\">\n",
       "  <thead>\n",
       "    <tr style=\"text-align: right;\">\n",
       "      <th></th>\n",
       "      <th>city</th>\n",
       "      <th>date</th>\n",
       "      <th>fare</th>\n",
       "      <th>ride_id</th>\n",
       "    </tr>\n",
       "  </thead>\n",
       "  <tbody>\n",
       "    <tr>\n",
       "      <th>0</th>\n",
       "      <td>Sarabury</td>\n",
       "      <td>2016-01-16 13:49:27</td>\n",
       "      <td>38.35</td>\n",
       "      <td>5403689035038</td>\n",
       "    </tr>\n",
       "    <tr>\n",
       "      <th>1</th>\n",
       "      <td>South Roy</td>\n",
       "      <td>2016-01-02 18:42:34</td>\n",
       "      <td>17.49</td>\n",
       "      <td>4036272335942</td>\n",
       "    </tr>\n",
       "    <tr>\n",
       "      <th>2</th>\n",
       "      <td>Wiseborough</td>\n",
       "      <td>2016-01-21 17:35:29</td>\n",
       "      <td>44.18</td>\n",
       "      <td>3645042422587</td>\n",
       "    </tr>\n",
       "    <tr>\n",
       "      <th>3</th>\n",
       "      <td>Spencertown</td>\n",
       "      <td>2016-07-31 14:53:22</td>\n",
       "      <td>6.87</td>\n",
       "      <td>2242596575892</td>\n",
       "    </tr>\n",
       "    <tr>\n",
       "      <th>4</th>\n",
       "      <td>Nguyenbury</td>\n",
       "      <td>2016-07-09 04:42:44</td>\n",
       "      <td>6.28</td>\n",
       "      <td>1543057793673</td>\n",
       "    </tr>\n",
       "  </tbody>\n",
       "</table>\n",
       "</div>"
      ],
      "text/plain": [
       "          city                 date   fare        ride_id\n",
       "0     Sarabury  2016-01-16 13:49:27  38.35  5403689035038\n",
       "1    South Roy  2016-01-02 18:42:34  17.49  4036272335942\n",
       "2  Wiseborough  2016-01-21 17:35:29  44.18  3645042422587\n",
       "3  Spencertown  2016-07-31 14:53:22   6.87  2242596575892\n",
       "4   Nguyenbury  2016-07-09 04:42:44   6.28  1543057793673"
      ]
     },
     "execution_count": 20,
     "metadata": {},
     "output_type": "execute_result"
    }
   ],
   "source": [
    "ride_data_pd.head()"
   ]
  },
  {
   "cell_type": "code",
   "execution_count": 21,
   "metadata": {},
   "outputs": [],
   "source": [
    "# Average Fare ($) Per City\n",
    "\n",
    "avg_ride = ride_data_pd.groupby(\"city\")[\"fare\"].mean()\n",
    "# ride_data_pd.dtypes\n",
    "# type(avg_ride)\n",
    "# avg_ride.head()"
   ]
  },
  {
   "cell_type": "code",
   "execution_count": 22,
   "metadata": {},
   "outputs": [],
   "source": [
    "# Total Number of Rides Per City\n",
    "\n",
    "# to put in a new dataframe, it has to be a panda series, list, or a numpy array\n",
    "\n",
    "total_ride_sum = ride_data_pd.groupby(\"city\")[\"fare\"].sum()\n",
    "total_ride_count = ride_data_pd.groupby(\"city\")[\"fare\"].count()"
   ]
  },
  {
   "cell_type": "code",
   "execution_count": 23,
   "metadata": {},
   "outputs": [],
   "source": [
    "New_ride = pd.DataFrame({\"Total Fares Earned\": total_ride_sum, \n",
    "                         \"Total Number of Rides\": total_ride_count,\n",
    "                         \"Average Fare\": avg_ride\n",
    "                        })\n"
   ]
  },
  {
   "cell_type": "code",
   "execution_count": 24,
   "metadata": {},
   "outputs": [],
   "source": [
    "# Reset the index moved the \"city\" into a column \n",
    "reset = New_ride.reset_index()\n",
    "# reset.head()"
   ]
  },
  {
   "cell_type": "code",
   "execution_count": 25,
   "metadata": {},
   "outputs": [],
   "source": [
    "# city_data_pd.head()"
   ]
  },
  {
   "cell_type": "code",
   "execution_count": 26,
   "metadata": {},
   "outputs": [
    {
     "data": {
      "text/html": [
       "<div>\n",
       "<style scoped>\n",
       "    .dataframe tbody tr th:only-of-type {\n",
       "        vertical-align: middle;\n",
       "    }\n",
       "\n",
       "    .dataframe tbody tr th {\n",
       "        vertical-align: top;\n",
       "    }\n",
       "\n",
       "    .dataframe thead th {\n",
       "        text-align: right;\n",
       "    }\n",
       "</style>\n",
       "<table border=\"1\" class=\"dataframe\">\n",
       "  <thead>\n",
       "    <tr style=\"text-align: right;\">\n",
       "      <th></th>\n",
       "      <th>city</th>\n",
       "      <th>Average Fare</th>\n",
       "      <th>Total Fares Earned</th>\n",
       "      <th>Total Number of Rides</th>\n",
       "      <th>driver_count</th>\n",
       "      <th>type</th>\n",
       "    </tr>\n",
       "  </thead>\n",
       "  <tbody>\n",
       "    <tr>\n",
       "      <th>0</th>\n",
       "      <td>Alvarezhaven</td>\n",
       "      <td>23.928710</td>\n",
       "      <td>741.79</td>\n",
       "      <td>31</td>\n",
       "      <td>21</td>\n",
       "      <td>Urban</td>\n",
       "    </tr>\n",
       "    <tr>\n",
       "      <th>1</th>\n",
       "      <td>Alyssaberg</td>\n",
       "      <td>20.609615</td>\n",
       "      <td>535.85</td>\n",
       "      <td>26</td>\n",
       "      <td>67</td>\n",
       "      <td>Urban</td>\n",
       "    </tr>\n",
       "    <tr>\n",
       "      <th>2</th>\n",
       "      <td>Anitamouth</td>\n",
       "      <td>37.315556</td>\n",
       "      <td>335.84</td>\n",
       "      <td>9</td>\n",
       "      <td>16</td>\n",
       "      <td>Suburban</td>\n",
       "    </tr>\n",
       "    <tr>\n",
       "      <th>3</th>\n",
       "      <td>Antoniomouth</td>\n",
       "      <td>23.625000</td>\n",
       "      <td>519.75</td>\n",
       "      <td>22</td>\n",
       "      <td>21</td>\n",
       "      <td>Urban</td>\n",
       "    </tr>\n",
       "    <tr>\n",
       "      <th>4</th>\n",
       "      <td>Aprilchester</td>\n",
       "      <td>21.981579</td>\n",
       "      <td>417.65</td>\n",
       "      <td>19</td>\n",
       "      <td>49</td>\n",
       "      <td>Urban</td>\n",
       "    </tr>\n",
       "  </tbody>\n",
       "</table>\n",
       "</div>"
      ],
      "text/plain": [
       "           city  Average Fare  Total Fares Earned  Total Number of Rides  \\\n",
       "0  Alvarezhaven     23.928710              741.79                     31   \n",
       "1    Alyssaberg     20.609615              535.85                     26   \n",
       "2    Anitamouth     37.315556              335.84                      9   \n",
       "3  Antoniomouth     23.625000              519.75                     22   \n",
       "4  Aprilchester     21.981579              417.65                     19   \n",
       "\n",
       "   driver_count      type  \n",
       "0            21     Urban  \n",
       "1            67     Urban  \n",
       "2            16  Suburban  \n",
       "3            21     Urban  \n",
       "4            49     Urban  "
      ]
     },
     "execution_count": 26,
     "metadata": {},
     "output_type": "execute_result"
    }
   ],
   "source": [
    "all_data = pd.merge(reset, city_data_pd, on=\"city\", how=\"left\")\n",
    "#Is left appropriate in this case???\n",
    "\n",
    "# Formatting for all_data dataframe but I can't get it to work!\n",
    "# all_data[\"Average Fare\"] = all_data[\"Average Fare\"].map(\"{:.2f}\".format)\n",
    "# all_data[\"Total Fares Earned\"] = all_data[\"Total Fares Earned\"].map(\"{:.2f}\".format)\n",
    "\n",
    "all_data.head()"
   ]
  },
  {
   "cell_type": "code",
   "execution_count": 27,
   "metadata": {},
   "outputs": [
    {
     "data": {
      "text/plain": [
       "<matplotlib.legend.Legend at 0x1a1d55fd30>"
      ]
     },
     "execution_count": 27,
     "metadata": {},
     "output_type": "execute_result"
    },
    {
     "data": {
      "image/png": "[encoded data removed]",
      "text/plain": [
       "<matplotlib.figure.Figure at 0x1a14084710>"
      ]
     },
     "metadata": {},
     "output_type": "display_data"
    }
   ],
   "source": [
    "# Your objective is to build a Bubble Plot that showcases the relationship between four key \n",
    "# variables:\n",
    "# \n",
    "# Average Fare ($) Per City\n",
    "# Total Number of Rides Per City\n",
    "# Total Number of Drivers Per City\n",
    "# City Type (Urban, Suburban, Rural)\n",
    "\n",
    "\n",
    "# Splitting the dataframe into types of cities to graph.\n",
    "\n",
    "urban = all_data.loc[all_data[\"type\"]==\"Urban\"]\n",
    "rural = all_data.loc[all_data[\"type\"]==\"Rural\"]\n",
    "suburban = all_data.loc[all_data[\"type\"]==\"Suburban\"]\n",
    "\n",
    "# Plotting the cities per city type\n",
    "urban_plot = plt.scatter(x=urban[\"Total Fares Earned\"], y=urban[\"Average Fare\"], c=\"lightcoral\", \n",
    "                         s=all_data[\"driver_count\"]*3, label=\"Urban\", edgecolors='k', alpha=.8)\n",
    "rural_plot = plt.scatter(x=rural[\"Total Fares Earned\"], y=rural[\"Average Fare\"], c=\"gold\", \n",
    "                         s=all_data[\"driver_count\"]*3, label=\"Rural\", edgecolors='k', alpha=.7)\n",
    "suburban_plot = plt.scatter(x=suburban[\"Total Fares Earned\"], y=suburban[\"Average Fare\"], c=\"lightskyblue\", \n",
    "                         s=all_data[\"driver_count\"]*3, label=\"Suburban\", edgecolors='k', alpha=.8)\n",
    "\n",
    "\n",
    "# Set a Title, axis labels, legend\n",
    "plt.title(\"Ride Sharing Data\")\n",
    "plt.xlabel(\"Total Number of Rides (per city)\")\n",
    "plt.ylabel(\"Average Fare ($)\")\n",
    "\n",
    "plt.legend()\n",
    "# plt.annotate('bubble size correllated with driver count', xy=(2, 1), xytext=(3, 1.5),\n",
    "#             arrowprops=dict(facecolor='black', shrink=0.05),\n",
    "#             )"
   ]
  },
  {
   "cell_type": "code",
   "execution_count": 28,
   "metadata": {
    "scrolled": true
   },
   "outputs": [],
   "source": [
    "# I need to see the dataframe I'm working with\n",
    "# all_data.head()"
   ]
  },
  {
   "cell_type": "code",
   "execution_count": 29,
   "metadata": {},
   "outputs": [],
   "source": [
    "# In addition, you will be expected to produce the following three pie charts:\n",
    "\n",
    "# % of Total Fares by City Type\n",
    "# % of Total Rides by City Type\n",
    "# % of Total Drivers by City Type"
   ]
  },
  {
   "cell_type": "code",
   "execution_count": 30,
   "metadata": {},
   "outputs": [
    {
     "ename": "NameError",
     "evalue": "name 'cities_sum' is not defined",
     "output_type": "error",
     "traceback": [
      "\u001b[0;31m---------------------------------------------------------------------------\u001b[0m",
      "\u001b[0;31mNameError\u001b[0m                                 Traceback (most recent call last)",
      "\u001b[0;32m<ipython-input-30-4c22b2a56a95>\u001b[0m in \u001b[0;36m<module>\u001b[0;34m()\u001b[0m\n\u001b[1;32m      2\u001b[0m \u001b[0;34m\u001b[0m\u001b[0m\n\u001b[1;32m      3\u001b[0m \u001b[0;31m# Just need the values of the city sum\u001b[0m\u001b[0;34m\u001b[0m\u001b[0;34m\u001b[0m\u001b[0m\n\u001b[0;32m----> 4\u001b[0;31m \u001b[0mcities_sum\u001b[0m\u001b[0;34m.\u001b[0m\u001b[0mindex\u001b[0m\u001b[0;34m.\u001b[0m\u001b[0mvalues\u001b[0m\u001b[0;34m\u001b[0m\u001b[0m\n\u001b[0m\u001b[1;32m      5\u001b[0m \u001b[0;34m\u001b[0m\u001b[0m\n\u001b[1;32m      6\u001b[0m \u001b[0;31m#sum of all fares per city\u001b[0m\u001b[0;34m\u001b[0m\u001b[0;34m\u001b[0m\u001b[0m\n",
      "\u001b[0;31mNameError\u001b[0m: name 'cities_sum' is not defined"
     ]
    }
   ],
   "source": [
    "# % of Total Fares by City Type\n",
    "\n",
    "# Just need the values of the city sum\n",
    "cities_sum.index.values\n",
    "\n",
    "#sum of all fares per city\n",
    "cities_sum = all_data.groupby(\"type\")[\"Total Fares Earned\"].sum() \n",
    "\n",
    " # count of all the different types of cities\n",
    "cities_count = all_data.groupby(\"type\")[\"Total Fares Earned\"].count()\n",
    "\n",
    "# sum of all fares \n",
    "total_cities = cities_sum.sum() \n",
    "\n",
    "# Sum of all fares per city divided by the total $ amount of fares collected\n",
    "percentage = cities_sum/total_cities\n",
    "\n",
    "color = {\"gold\", \"lightskyblue\", \"lightcoral\"}\n",
    "explode = [0, 0.1, 0]\n",
    "\n",
    "\n",
    "plt.pie(percentage, labels=cities_sum.index.values, explode=explode, colors=color, \n",
    "        autopct=\"%1.1f%%\", shadow=True, startangle=140)\n",
    "plt.title(\"% of Total Fares by City Type\")"
   ]
  },
  {
   "cell_type": "code",
   "execution_count": null,
   "metadata": {},
   "outputs": [],
   "source": [
    "# I need to see the dataframe I'm working with\n",
    "# all_data.head()"
   ]
  },
  {
   "cell_type": "code",
   "execution_count": null,
   "metadata": {},
   "outputs": [],
   "source": [
    "# % of Total Rides by City Type\n",
    "\n",
    "#sum of all rides per city\n",
    "cities_rides_sum = all_data.groupby(\"type\")[\"Total Number of Rides\"].sum() \n",
    "\n",
    "# sum of all fares \n",
    "total_cities_sum = cities_rides_sum.sum() \n",
    "\n",
    "# Sum of all fares per city divided by the total $ amount of fares collected\n",
    "percentage2 = cities_rides_sum/total_cities_sum\n",
    "\n",
    "color = {\"gold\", \"lightskyblue\", \"lightcoral\"}\n",
    "explode = [0, 0.1, 0]\n",
    "\n",
    "\n",
    "plt.pie(percentage2, labels=cities_rides_sum.index.values, explode=explode, colors=color, \n",
    "        autopct=\"%1.1f%%\", shadow=True, startangle=100)\n",
    "plt.title(\"% of Total Rides by City Type\")"
   ]
  },
  {
   "cell_type": "code",
   "execution_count": null,
   "metadata": {},
   "outputs": [],
   "source": [
    "# I need to see the dataframe I'm working with\n",
    "# all_data.head()"
   ]
  },
  {
   "cell_type": "code",
   "execution_count": null,
   "metadata": {},
   "outputs": [],
   "source": [
    "# % of Total Drivers by City Type\n",
    "\n",
    "#sum of all drivers per city\n",
    "cities_drivers_sum = all_data.groupby(\"type\")[\"driver_count\"].sum() \n",
    "\n",
    "# sum of all drivers \n",
    "total_drivers_sum = cities_drivers_sum.sum() \n",
    "\n",
    "# Sum of all fares per city divided by the total $ amount of fares collected\n",
    "percentage3 = cities_drivers_sum/total_drivers_sum\n",
    "\n",
    "color = {\"gold\", \"lightskyblue\", \"lightcoral\"}\n",
    "explode = [0, 0.1, 0]\n",
    "\n",
    "\n",
    "plt.pie(percentage3, labels=cities_drivers_sum.index.values, explode=explode, colors=color, \n",
    "        autopct=\"%1.1f%%\", shadow=True, startangle=100)\n",
    "plt.title(\"% of Total Drivers by City Type\")"
   ]
  },
  {
   "cell_type": "markdown",
   "metadata": {},
   "source": [
    "#### Observation 1: There are considerably more urban drivers and than suburban and rural combined."
   ]
  },
  {
   "cell_type": "markdown",
   "metadata": {},
   "source": [
    "#### Observation 2: However, there are a handful of suburban cities where the average fare and the total number of rides were greater than most urban cities. It would be interesting to see why."
   ]
  },
  {
   "cell_type": "markdown",
   "metadata": {},
   "source": [
    "#### Observation 3: Rural drivers can charge a higher fare on average since there is less demand for rides than other city types."
   ]
  },
  {
   "cell_type": "code",
   "execution_count": null,
   "metadata": {},
   "outputs": [],
   "source": []
  }
 ],
 "metadata": {
  "kernelspec": {
   "display_name": "Python [conda env:PythonData]",
   "language": "python",
   "name": "conda-env-PythonData-py"
  },
  "language_info": {
   "codemirror_mode": {
    "name": "ipython",
    "version": 3
   },
   "file_extension": ".py",
   "mimetype": "text/x-python",
   "name": "python",
   "nbconvert_exporter": "python",
   "pygments_lexer": "ipython3",
   "version": "3.6.4"
  }
 },
 "nbformat": 4,
 "nbformat_minor": 2
}
